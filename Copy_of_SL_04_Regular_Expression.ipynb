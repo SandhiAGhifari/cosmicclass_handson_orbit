{
  "nbformat": 4,
  "nbformat_minor": 0,
  "metadata": {
    "colab": {
      "provenance": [],
      "include_colab_link": true
    },
    "kernelspec": {
      "name": "python3",
      "display_name": "Python 3"
    },
    "language_info": {
      "name": "python"
    },
    "accelerator": "GPU",
    "gpuClass": "standard"
  },
  "cells": [
    {
      "cell_type": "markdown",
      "metadata": {
        "id": "view-in-github",
        "colab_type": "text"
      },
      "source": [
        "<a href=\"https://colab.research.google.com/github/SandhiAGhifari/cosmicclass_handson_orbit/blob/main/Copy_of_SL_04_Regular_Expression.ipynb\" target=\"_parent\"><img src=\"https://colab.research.google.com/assets/colab-badge.svg\" alt=\"Open In Colab\"/></a>"
      ]
    },
    {
      "cell_type": "markdown",
      "source": [
        "## Regular Expression (Regex)\n",
        "> Library untuk pengenalan dan pengelolaan pola pada teks\n",
        ">\n",
        "\n",
        "Contoh implementasi:\n",
        "- Pola Email\n",
        "- Pola Nomor telepon\n",
        "- Pola url\n",
        "- Pola Nomor plat kendaraan bermotor\n",
        "- Menghilangkan karakter khusus pada teks\n",
        "- dll."
      ],
      "metadata": {
        "id": "V6uGozZv4e5K"
      }
    },
    {
      "cell_type": "markdown",
      "source": [
        "**Contoh Syntax dan Aturan-aturan pada class Regex**\n",
        "\n",
        "---\n",
        "Kelas Karakter\n",
        "---\n",
        "\n",
        "*   [ abc] = karakter a ,b atau c (kelas sederhana)\n",
        "*   [^abc] = kecuali karakter a ,b ,atau (negasi)\n",
        "*   [a-zA-Z] = karakter a sampai z huruf kecil , atau A sampai Z huruf besar ,(jarak)\n",
        "*   [a-z[x-y]] = karakter a sampai d ,atau m sampai p (a-xy-z : gabungan)\n",
        "*   [a-z0-9] = karakter a sampai z ,atau angka dari 0 sampai 9\n",
        "*   [a-z&&[^bc] = karakter a sampi z, kecuali untuk b dan c.\n",
        "\n",
        "---\n",
        "Meta Karakter\n",
        "---\n",
        "*   . = tanda titik ,yang berarti karakter apa saja\n",
        "*   \\d = angka digit apa saja:, seperti [0-9]\n",
        "*   \\D = selain angka digit : [^0-9]\n",
        "*   \\s = sebuah spasi pada kaarkter, seperti [ \\t\\n\\x0B\\f\\r]\n",
        "*   \\S = selain spasi pada karakter: [^\\s]\n",
        "*   \\w = huruf dan angka apa saja ,seperti [a-zA-Z_0-9]\n",
        "*   \\W = selain angka dan huruf ,[\\w]\n",
        "\n",
        "---\n",
        "Batasan Kecocokan Karakter\n",
        "---\n",
        "*   ^ = tanda awalan\n",
        "*   $ = tanda akhiran\n",
        "*   \\b = batasan kecocokan kata\n",
        "*   \\B = batasan kecocokan selain kata\n",
        "*   \\A = awalan untuk input text\n",
        "*   \\G = akhir dari kecocokan sebelumnya\n",
        "*   \\Z = akhir dari input text, kecuali final terminator jika ada\n",
        "*   \\z = akhir dari input text\n"
      ],
      "metadata": {
        "id": "oAlARrGQ4l-k"
      }
    },
    {
      "cell_type": "code",
      "execution_count": null,
      "metadata": {
        "id": "I1d9WoQ54eD_"
      },
      "outputs": [],
      "source": [
        "# Import Library Regex (re)\n",
        "import re\n",
        "\n",
        "# Pola Email\n",
        "email_pattern = re.compile(r'[\\w._%+-]+@[\\w\\.-]+\\.[a-zA-Z]{2,4}')\n",
        "txt = 'Contact kami di admin@thenextyunikorn.id, sales@yunikornbaru.com, atau hrd@yunikornindo.id'\n",
        "\n"
      ]
    },
    {
      "cell_type": "code",
      "source": [
        "txt"
      ],
      "metadata": {
        "colab": {
          "base_uri": "https://localhost:8080/",
          "height": 36
        },
        "id": "8tohi4k44f33",
        "outputId": "d2703428-7534-43f0-b765-11c3e95e5a4e"
      },
      "execution_count": null,
      "outputs": [
        {
          "output_type": "execute_result",
          "data": {
            "text/plain": [
              "'Contact kami di admin@thenextyunikorn.id, sales@yunikornbaru.com, atau hrd@yunikornindo.id'"
            ],
            "application/vnd.google.colaboratory.intrinsic+json": {
              "type": "string"
            }
          },
          "metadata": {},
          "execution_count": 2
        }
      ]
    },
    {
      "cell_type": "markdown",
      "source": [
        "### Pola Email"
      ],
      "metadata": {
        "id": "eL7ag9IU5UEt"
      }
    },
    {
      "cell_type": "code",
      "source": [
        "# Menghapus Email dalam teks\n",
        "print( re.sub(email_pattern, ' ', txt))"
      ],
      "metadata": {
        "colab": {
          "base_uri": "https://localhost:8080/"
        },
        "id": "dz1D6cCR5NsP",
        "outputId": "96dde140-5516-4536-f214-c7d315d4909a"
      },
      "execution_count": null,
      "outputs": [
        {
          "output_type": "stream",
          "name": "stdout",
          "text": [
            "Contact kami di  ,  , atau  \n"
          ]
        }
      ]
    },
    {
      "cell_type": "code",
      "source": [
        "# Mengambil email dari teks berdasarkan pola regex yang ditentukan\n",
        "emails = re.findall(email_pattern, txt)\n",
        "print( 'Email yang ditemukan: ', emails)"
      ],
      "metadata": {
        "colab": {
          "base_uri": "https://localhost:8080/"
        },
        "id": "0hgD0Vj25XKP",
        "outputId": "1932e408-54ee-49cd-f98d-db28f96fe205"
      },
      "execution_count": null,
      "outputs": [
        {
          "output_type": "stream",
          "name": "stdout",
          "text": [
            "Email yang ditemukan:  ['admin@thenextyunikorn.id', 'sales@yunikornbaru.com', 'hrd@yunikornindo.id']\n"
          ]
        }
      ]
    },
    {
      "cell_type": "markdown",
      "source": [
        "### Pola Nomor Telepon"
      ],
      "metadata": {
        "id": "EftUKvWl5iwt"
      }
    },
    {
      "cell_type": "code",
      "source": [
        "# Pola telephone : \\d penanda angka di reguler Expression, \\s spasi, dan \"|\" adalah \"atau\"\n",
        "# \"?\" menyatakan pilihan (optional)\n",
        "phone_pattern = re.compile(r'(\\d{3}[-\\.\\s]??\\d{3}[-\\.\\s]??\\d{4,6}|\\(\\d{3}\\)\\s*\\d{3}[-\\.\\s]??\\d{4,6}|\\d{3,4}[-\\.\\s]??\\d{4,6})')\n",
        "txt = 'Contact kami di 021-7632456 atau 021-443-4162 atau 021 797 4524 atau 0822959020 atau +628199258643'"
      ],
      "metadata": {
        "id": "5uLcON-Z5Z3X"
      },
      "execution_count": null,
      "outputs": []
    },
    {
      "cell_type": "code",
      "source": [
        "# Sensor *** untuk pola Nomor Telepon\n",
        "print(re.sub(phone_pattern,'***',txt))"
      ],
      "metadata": {
        "colab": {
          "base_uri": "https://localhost:8080/"
        },
        "id": "I3EyrkQJ5lyt",
        "outputId": "000967a0-5972-4ea4-d434-4d6eef3df97c"
      },
      "execution_count": null,
      "outputs": [
        {
          "output_type": "stream",
          "name": "stdout",
          "text": [
            "Contact kami di *** atau *** atau *** atau *** atau +***\n"
          ]
        }
      ]
    },
    {
      "cell_type": "code",
      "source": [
        "# Mengambil nomor telepon dari teks berdasarkan pola regex yang telah ditentukan\n",
        "phone_numbers = re.findall(phone_pattern,txt)\n",
        "print('Nomer telephone yang ditemukan: ', str(phone_numbers))"
      ],
      "metadata": {
        "colab": {
          "base_uri": "https://localhost:8080/"
        },
        "id": "7JRvMScm5ocU",
        "outputId": "5c5cc658-15f6-4d38-f36d-d80c6cbd80ef"
      },
      "execution_count": null,
      "outputs": [
        {
          "output_type": "stream",
          "name": "stdout",
          "text": [
            "Nomer telephone yang ditemukan:  ['021-7632456', '021-443-4162', '021 797 4524', '0822959020', '628199258643']\n"
          ]
        }
      ]
    },
    {
      "cell_type": "markdown",
      "source": [
        "###Pola URL atau Link"
      ],
      "metadata": {
        "id": "QX0TdMCy51Jo"
      }
    },
    {
      "cell_type": "code",
      "source": [
        "# Website URL http(s)\n",
        "url_pattern = re.compile(r'www|http:|https:+[^\\s]+[\\w]')\n",
        "txt = 'Teman teman dapat mengunjungi link berikut untuk sumber belajar: https://www.regular-expressions.info/ atau https://www.towardsdatascience.com atau https://wikipedia.org'\n"
      ],
      "metadata": {
        "id": "h4RUWsQ-5wvM"
      },
      "execution_count": null,
      "outputs": []
    },
    {
      "cell_type": "code",
      "source": [
        "# Menghapus url pada teks\n",
        "print(re.sub(url_pattern,' ',txt))"
      ],
      "metadata": {
        "colab": {
          "base_uri": "https://localhost:8080/"
        },
        "id": "6VPaWUE856EM",
        "outputId": "ed8693ef-009f-4059-9550-ad874c0ec08a"
      },
      "execution_count": null,
      "outputs": [
        {
          "output_type": "stream",
          "name": "stdout",
          "text": [
            "Teman teman dapat mengunjungi link berikut untuk sumber belajar:  / atau   atau  \n"
          ]
        }
      ]
    },
    {
      "cell_type": "code",
      "source": [
        "# Mengambil url dari teks berdasarkan pola regex yang telah ditentukan\n",
        "urls = re.findall(url_pattern,txt)# get urls\n",
        "print('URL yang ditemukan: ',str(urls))"
      ],
      "metadata": {
        "colab": {
          "base_uri": "https://localhost:8080/"
        },
        "id": "dNG7stdk58W4",
        "outputId": "69c34524-fcca-4684-f15e-1faed606f17e"
      },
      "execution_count": null,
      "outputs": [
        {
          "output_type": "stream",
          "name": "stdout",
          "text": [
            "URL yang ditemukan:  ['https://www.regular-expressions.info', 'https://www.towardsdatascience.com', 'https://wikipedia.org']\n"
          ]
        }
      ]
    },
    {
      "cell_type": "markdown",
      "source": [
        "### Pola Plat Kendaraan Bermotor"
      ],
      "metadata": {
        "id": "LNiEbH3S6CN7"
      }
    },
    {
      "cell_type": "code",
      "source": [
        "plat_pattern = re.compile(r'[A-Z]{1,2}\\s\\d{1,4}\\s[A-Z]{1,3}')\n",
        "text = \"Mr.X punya 2 motor dan 1 mobil. Adapun plat nomornya yaitu B 234 AA, C 3244 YGS, dan D 3 S.\""
      ],
      "metadata": {
        "id": "s4QddXbx5-iJ"
      },
      "execution_count": null,
      "outputs": []
    },
    {
      "cell_type": "code",
      "source": [
        "# Menghapus plat kendaraan pada teks\n",
        "print(re.sub(plat_pattern, ' ', text))"
      ],
      "metadata": {
        "colab": {
          "base_uri": "https://localhost:8080/"
        },
        "id": "OFNIAGqK6GD_",
        "outputId": "c162e296-4040-46a4-a9d4-5d65433b7a2c"
      },
      "execution_count": null,
      "outputs": [
        {
          "output_type": "stream",
          "name": "stdout",
          "text": [
            "Mr.X punya 2 motor dan 1 mobil. Adapun plat nomornya yaitu  ,  , dan  .\n"
          ]
        }
      ]
    },
    {
      "cell_type": "code",
      "source": [
        "kumpulan_plat_kendaraan = re.findall(plat_pattern, text)\n",
        "print(kumpulan_plat_kendaraan)"
      ],
      "metadata": {
        "colab": {
          "base_uri": "https://localhost:8080/"
        },
        "id": "hKLvdOf86Ia0",
        "outputId": "a6240790-3647-4ec4-efdf-a1ac6b3a71f4"
      },
      "execution_count": null,
      "outputs": [
        {
          "output_type": "stream",
          "name": "stdout",
          "text": [
            "['B 234 AA', 'C 3244 YGS', 'D 3 S']\n"
          ]
        }
      ]
    },
    {
      "cell_type": "markdown",
      "source": [
        "### Menghilangkan Karakter Khusus"
      ],
      "metadata": {
        "id": "dko-Vzwk6RmO"
      }
    },
    {
      "cell_type": "code",
      "source": [
        "text = \"Halo @Orbit, apa kabar? #SapaKawan.\"\n",
        "result = re.sub(r'[@,.?#]', '', text)\n",
        "print(result)"
      ],
      "metadata": {
        "colab": {
          "base_uri": "https://localhost:8080/"
        },
        "id": "cQx-_U-m6LLV",
        "outputId": "c49aa161-cbca-4a83-d09d-3fc6389bd3b8"
      },
      "execution_count": null,
      "outputs": [
        {
          "output_type": "stream",
          "name": "stdout",
          "text": [
            "Halo Orbit apa kabar SapaKawan\n"
          ]
        }
      ]
    },
    {
      "cell_type": "markdown",
      "source": [
        "##Buat dipelajari tidak usah dikumpulkan!\n",
        "##FYI: **Just challenge ur knowledge**\n",
        "## Self-Activity 1\n",
        "**TEXT:**\n",
        "> Halo semua, namaku Andy Joe. Kemarin smartphoneku mendapat SMS tagihan Pinjaman Online dari nomor 08004398499. Selain itu emailku juga mendapatkan pesan serupa dari debtcollector@pinjolninuninu.com. Ternyata salah satu temanku menjadikan nomor telepon dan emailku sebagai penanggungjawab pinjaman onlinenya :(. Tak lama sosok pria berbadan bongsor datang ke rumahku dengan menggunakan mogenya. Ia menanyakan keberadaan temanku yang meminjam uang di perusahaan Pinjol tersebut. Aku yang tak tahu keberadaannya pun menjawab apa adanya. Tak lama kemudian pria tersebut pergi dan segera kuambil gambar mogenya dengan  plat PO 3030 AY. Setelah itu aku menghubungi temanku dan meminta penjelasan kepadanya.\n",
        ">\n",
        "---\n",
        "### Buatlah format pesan kepada teman Andy Joe untuk meminta penjelasan terkait dengan situasi yang sedang terjadi. (ganti teks yang cetak miring dan tebal menjadi nomor debtcollector, email debtcollector dan plat nomor)\n",
        ">\n",
        "\n",
        "**Format Pesan:**\n",
        "> \"*Halo xxxxx, Aku tadi habis didatangi debtcollector. Dia mengirimiku pesan lewat nomornya yaitu **nomor_debtcollector** dan email **email_debtcollector**. Dia bilang kamu jadiin nomorku dan emailku sebagai penanggungjawab. Bisa tolong jelasin? Terus aku tadi juga sempet foto motor yg dipake mas debtcollector. Plat nomornya **plat_nomor_debtcollector**.*\""
      ],
      "metadata": {
        "id": "xvvlUt1l6vu6"
      }
    },
    {
      "cell_type": "code",
      "source": [
        "# Import Library Regex\n",
        "import re\n",
        "\n",
        "# Text Input\n",
        "text = \"\"\"Halo semua, namaku Andy Joe. Kemarin smartphoneku mendapat SMS tagihan Pinjaman Online dari nomor 08004398499.\n",
        "Selain itu emailku juga mendapatkan pesan serupa dari debtcollector@pinjolninuninu.com.\n",
        "Ternyata salah satu temanku menjadikan nomor telepon dan emailku sebagai penanggungjawab pinjaman onlinenya :(.\n",
        "Tak lama sosok pria berbadan bongsor datang ke rumahku dengan menggunakan mogenya.\n",
        "Ia menanyakan keberadaan temanku yang meminjam uang di perusahaan Pinjol tersebut.\n",
        "Aku yang tak tahu keberadaannya pun menjawab apa adanya.\n",
        "Tak lama kemudian pria tersebut pergi dan segera kuambil gambar mogenya dengan plat PO 3030 AY.\n",
        "Setelah itu aku menghubungi temanku dan meminta penjelasan kepadanya.\"\"\"\n",
        "\n",
        "# Extract nomor telepon\n",
        "phone_pattern = re.compile(r'\\d{8,}')\n",
        "phone_number = re.search(phone_pattern, text).group()\n",
        "\n",
        "# Extract email\n",
        "email_pattern = re.compile(r'[\\w._%+-]+@[\\w.-]+\\.[a-zA-Z]{2,4}')\n",
        "email_address = re.search(email_pattern, text).group()\n",
        "\n",
        "# Extract plat nomor\n",
        "plat_pattern = re.compile(r'[A-Z]{1,2}\\s\\d{1,4}\\s[A-Z]{1,3}')\n",
        "plat_number = re.search(plat_pattern, text).group()\n",
        "\n",
        "# Format Pesan\n",
        "message = f\"\"\"\n",
        "Halo [Nama Teman],\n",
        "Aku tadi habis didatangi debtcollector. Dia mengirimiku pesan lewat nomornya yaitu {phone_number}\n",
        "dan email {email_address}. Dia bilang kamu jadiin nomorku dan emailku sebagai penanggungjawab.\n",
        "Bisa tolong jelasin? Terus aku tadi juga sempet foto motor yg dipake mas debtcollector.\n",
        "Plat nomornya {plat_number}.\n",
        "\"\"\"\n",
        "print(message)\n"
      ],
      "metadata": {
        "colab": {
          "base_uri": "https://localhost:8080/"
        },
        "id": "3sWe3tVa01Az",
        "outputId": "7d51e72c-9506-404c-d220-da0a8665748b"
      },
      "execution_count": 1,
      "outputs": [
        {
          "output_type": "stream",
          "name": "stdout",
          "text": [
            "\n",
            "Halo [Nama Teman],\n",
            "Aku tadi habis didatangi debtcollector. Dia mengirimiku pesan lewat nomornya yaitu 08004398499 \n",
            "dan email debtcollector@pinjolninuninu.com. Dia bilang kamu jadiin nomorku dan emailku sebagai penanggungjawab. \n",
            "Bisa tolong jelasin? Terus aku tadi juga sempet foto motor yg dipake mas debtcollector. \n",
            "Plat nomornya PO 3030 AY.\n",
            "\n"
          ]
        }
      ]
    },
    {
      "cell_type": "markdown",
      "source": [
        "## Self-Activity 2\n",
        "1. Buat Webscraping dan Crawling dari website berbeda selain warstek\n",
        "2. lakukan RegEx dari hasil Scraping\n",
        "3. visualisasikan kedalam dataframe dari hasil webscraping dan crawling\n",
        "4. Buat Data JSON untuk Chatbot resep makanan khas daerah teman-teman"
      ],
      "metadata": {
        "id": "JXuTglwVH1FC"
      }
    },
    {
      "cell_type": "code",
      "source": [
        "import requests\n",
        "from bs4 import BeautifulSoup\n",
        "import pandas as pd\n",
        "import re\n",
        "import json"
      ],
      "metadata": {
        "id": "otv3T1NU6UJM"
      },
      "execution_count": 2,
      "outputs": []
    },
    {
      "cell_type": "code",
      "source": [
        "# Step 1: Webscraping\n",
        "url = \"http://quotes.toscrape.com/\"\n",
        "response = requests.get(url)\n",
        "soup = BeautifulSoup(response.text, 'html.parser')"
      ],
      "metadata": {
        "id": "5Xf_bY901Jbz"
      },
      "execution_count": 3,
      "outputs": []
    },
    {
      "cell_type": "code",
      "source": [
        "# Extract Quotes and Authors\n",
        "quotes = [quote.text.strip() for quote in soup.find_all('span', class_='text')]\n",
        "authors = [author.text.strip() for author in soup.find_all('small', class_='author')]"
      ],
      "metadata": {
        "id": "D4EfEpxk1Mvf"
      },
      "execution_count": 4,
      "outputs": []
    },
    {
      "cell_type": "code",
      "source": [
        "# Step 2: Filter with Regex\n",
        "filtered_quotes = [quote for quote in quotes if re.search(r'\\b(happiness|life)\\b', quote, re.IGNORECASE)]"
      ],
      "metadata": {
        "id": "IfF6O6Nz1Q3k"
      },
      "execution_count": 5,
      "outputs": []
    },
    {
      "cell_type": "code",
      "source": [
        "# Step 3: Create DataFrame\n",
        "df = pd.DataFrame({\n",
        "    'Quote': quotes,\n",
        "    'Author': authors\n",
        "})"
      ],
      "metadata": {
        "id": "WuxeqdsC1Tyh"
      },
      "execution_count": 6,
      "outputs": []
    },
    {
      "cell_type": "code",
      "source": [
        "print(df.head())"
      ],
      "metadata": {
        "colab": {
          "base_uri": "https://localhost:8080/"
        },
        "id": "G6W2rqtT1WmN",
        "outputId": "65e5c9ca-42fc-482c-ac74-6e91f29f5801"
      },
      "execution_count": 7,
      "outputs": [
        {
          "output_type": "stream",
          "name": "stdout",
          "text": [
            "                                               Quote           Author\n",
            "0  “The world as we have created it is a process ...  Albert Einstein\n",
            "1  “It is our choices, Harry, that show what we t...     J.K. Rowling\n",
            "2  “There are only two ways to live your life. On...  Albert Einstein\n",
            "3  “The person, be it gentleman or lady, who has ...      Jane Austen\n",
            "4  “Imperfection is beauty, madness is genius and...   Marilyn Monroe\n"
          ]
        }
      ]
    },
    {
      "cell_type": "code",
      "source": [
        "# Step 4: Convert to JSON for Chatbot\n",
        "chatbot_recipes = [\n",
        "    {\n",
        "        \"name\": \"Rendang\",\n",
        "        \"ingredients\": [\"Daging sapi\", \"Santan\", \"Bumbu rendang\"],\n",
        "        \"instructions\": \"Masak semua bahan hingga matang.\"\n",
        "    },\n",
        "    {\n",
        "        \"name\": \"Soto Ayam\",\n",
        "        \"ingredients\": [\"Ayam\", \"Santan\", \"Rempah-rempah\"],\n",
        "        \"instructions\": \"Rebus ayam dan bumbu hingga matang.\"\n",
        "    }\n",
        "]"
      ],
      "metadata": {
        "id": "iKCb1zId1aNM"
      },
      "execution_count": 8,
      "outputs": []
    },
    {
      "cell_type": "code",
      "source": [
        "# Save JSON\n",
        "with open('chatbot_recipes.json', 'w') as f:\n",
        "    json.dump(chatbot_recipes, f, indent=4)\n",
        "\n",
        "print(\"Data JSON telah dibuat!\")"
      ],
      "metadata": {
        "id": "YFOdDwq11dmr",
        "outputId": "0be1ee8d-00f8-4dcf-c34c-4c3b8e966e54",
        "colab": {
          "base_uri": "https://localhost:8080/"
        }
      },
      "execution_count": 9,
      "outputs": [
        {
          "output_type": "stream",
          "name": "stdout",
          "text": [
            "Data JSON telah dibuat!\n"
          ]
        }
      ]
    }
  ]
}